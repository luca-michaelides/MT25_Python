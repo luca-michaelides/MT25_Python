{
 "cells": [
  {
   "cell_type": "markdown",
   "id": "76ff17ea",
   "metadata": {},
   "source": [
    "#### Part 1: Create a framework for the game mechanics/rules ####"
   ]
  },
  {
   "cell_type": "code",
   "execution_count": null,
   "id": "0f7fc78d",
   "metadata": {},
   "outputs": [
    {
     "name": "stdout",
     "output_type": "stream",
     "text": [
      "  0 1 2 3\n",
      "0 . . . .\n",
      "1 . B W .\n",
      "2 . W B .\n",
      "3 . . . .\n",
      "Current player: B\n",
      "Invalid move. Try again.\n",
      "  0 1 2 3\n",
      "0 . . . .\n",
      "1 . B W .\n",
      "2 . W B .\n",
      "3 . . . .\n",
      "Current player: B\n",
      "Game ended.\n"
     ]
    }
   ],
   "source": [
    "import numpy as np\n",
    "\n",
    "def othello_game(board_size=4):\n",
    "    # Validate board size\n",
    "    if not (isinstance(board_size, int) and board_size > 0 and board_size % 2 == 0):\n",
    "        raise ValueError(\"board_size must be an even positive integer.\")\n",
    "    print(f\"board_size is valid: {board_size}\")\n",
    "\n",
    "    # Initialize the board\n",
    "    board = np.zeros((board_size, board_size), dtype=str)\n",
    "    board[board_size/2-1][board_size/2-1] = board[board_size/2][board_size/2] = 'B'  # Player 1\n",
    "    board[board_size/2-1][board_size/2] = board[board_size/2][board_size/2-1] = 'W'  # Player 2\n",
    "\n",
    "    def print_board():\n",
    "        print(\"  \" + \" \".join(str(i) for i in range(board_size)))\n",
    "        for i in range(board_size):\n",
    "            print(i, \" \".join('B' if cell == 'B' else 'W' if cell == 'W' else '.' for cell in board[i]))\n",
    "\n",
    "    def is_valid_move(x, y, player):\n",
    "        if board[x][y] != 0:\n",
    "            return False\n",
    "        opponent = 'W' if player == 'B' else 'B'\n",
    "        directions = [(-1, -1), (-1, 0), (-1, 1), (0, -1), (0, 1), (1, -1), (1, 0), (1, 1)]\n",
    "        for dx, dy in directions:\n",
    "            nx, ny = x + dx, y + dy\n",
    "            found_opponent = False\n",
    "            while 0 <= nx < board_size and 0 <= ny < board_size:\n",
    "                if board[nx][ny] == opponent:\n",
    "                    found_opponent = True\n",
    "                elif board[nx][ny] == player:\n",
    "                    if found_opponent:\n",
    "                        return True\n",
    "                    else:\n",
    "                        break\n",
    "                else:\n",
    "                    break\n",
    "                nx += dx\n",
    "                ny += dy\n",
    "        return False\n",
    "\n",
    "    def make_move(x, y, player):\n",
    "        board[x][y] = player\n",
    "        opponent = -player\n",
    "        directions = [(-1, -1), (-1, 0), (-1, 1), (0, -1), (0, 1), (1, -1), (1, 0), (1, 1)]\n",
    "        for dx, dy in directions:\n",
    "            nx, ny = x + dx, y + dy\n",
    "            to_flip = []\n",
    "            while 0 <= nx < board_size and 0 <= ny < board_size:\n",
    "                if board[nx][ny] == opponent:\n",
    "                    to_flip.append((nx, ny))\n",
    "                elif board[nx][ny] == player:\n",
    "                    for fx, fy in to_flip:\n",
    "                        board[fx][fy] = player\n",
    "                        break\n",
    "                    break\n",
    "                else:\n",
    "                    break\n",
    "                nx += dx\n",
    "                ny += dy\n",
    "    current_player = 'B'\n",
    "    while True:\n",
    "        print_board()\n",
    "        print(f\"Current player: {current_player}\")\n",
    "        move = input(\"Enter your move as 'row col' or 'q' to quit: \")\n",
    "        if move.lower() == 'q':\n",
    "            print(\"Game ended.\")\n",
    "            break\n",
    "        try:\n",
    "            x, y = map(int, move.split())\n",
    "            if is_valid_move(x, y, current_player):\n",
    "                make_move(x, y, current_player)\n",
    "                current_player = 'W' if current_player == 'B' else 'B'\n",
    "            else:\n",
    "                print(\"Invalid move. Try again.\")\n",
    "        except (ValueError, IndexError):\n",
    "            print(\"Invalid input. Please enter row and column numbers.\")\n",
    "\n",
    "othello_game()"
   ]
  },
  {
   "cell_type": "code",
   "execution_count": null,
   "id": "7e0eb6cf",
   "metadata": {},
   "outputs": [],
   "source": [
    "move = \"2 3\"\n",
    "x, y = map(int, move.split())\n",
    "print(x)\n",
    "print(y)\n"
   ]
  }
 ],
 "metadata": {
  "kernelspec": {
   "display_name": "myenv",
   "language": "python",
   "name": "python3"
  },
  "language_info": {
   "codemirror_mode": {
    "name": "ipython",
    "version": 3
   },
   "file_extension": ".py",
   "mimetype": "text/x-python",
   "name": "python",
   "nbconvert_exporter": "python",
   "pygments_lexer": "ipython3",
   "version": "3.11.13"
  }
 },
 "nbformat": 4,
 "nbformat_minor": 5
}
