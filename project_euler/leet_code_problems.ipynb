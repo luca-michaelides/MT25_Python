{
 "cells": [
  {
   "cell_type": "markdown",
   "id": "6c5119b4",
   "metadata": {},
   "source": [
    "Using this notebook to test code for LeetCode problems"
   ]
  },
  {
   "cell_type": "code",
   "execution_count": 30,
   "id": "0e0d584b",
   "metadata": {},
   "outputs": [
    {
     "name": "stdout",
     "output_type": "stream",
     "text": [
      "3.5\n"
     ]
    }
   ],
   "source": [
    "# 4. Median of Two Sorted Arrays (HARD)\n",
    "\n",
    "from typing import List\n",
    "\n",
    "nums1 = [1,3,5]\n",
    "nums2 = [2,4,6]\n",
    "\n",
    "m = len(nums1)\n",
    "n = len(nums2)\n",
    "arr = []\n",
    "i = 0\n",
    "j = 0\n",
    "if (m == 0):\n",
    "    arr = nums2.copy()\n",
    "elif (n == 0):\n",
    "    arr = nums1.copy()\n",
    "else:    \n",
    "    while (i < m) and (j < n):\n",
    "        if (nums1[i] < nums2[j]):\n",
    "            arr.append(nums1[i])\n",
    "            i += 1\n",
    "        else:\n",
    "            arr.append(nums2[j])\n",
    "            j += 1\n",
    "    if (i == m):\n",
    "        for k in range(j,n):\n",
    "            arr.append(nums2[k])\n",
    "    else:\n",
    "        for k in range(i,m):\n",
    "            arr.append(nums1[k])\n",
    "if ((n+m) % 2 == 1):\n",
    "    median = arr[int((n+m-1)/2)]\n",
    "else:\n",
    "    median = (arr[int((n+m)/2 - 1)] + arr[int((n+m)/2)])/2\n",
    "print(median)"
   ]
  },
  {
   "cell_type": "code",
   "execution_count": null,
   "id": "8717e1c3",
   "metadata": {},
   "outputs": [],
   "source": [
    "# 10. Regular Expression Matching (HARD)\n",
    "\n",
    "s = str(aa)\n",
    "p = str(a*)\n",
    "\n",
    "s_len = len(s)\n",
    "p_len = len(p)\n",
    "arr = []\n",
    "\n",
    "for i in range(0,s_len):\n",
    "    if p[i] == s[i]:\n",
    "        arr.append(p[i])\n",
    "    elif p[i] == \"*\":\n",
    "        if s[i] not in arr:\n",
    "            while\n",
    "            return False"
   ]
  }
 ],
 "metadata": {
  "kernelspec": {
   "display_name": "myenv",
   "language": "python",
   "name": "python3"
  },
  "language_info": {
   "codemirror_mode": {
    "name": "ipython",
    "version": 3
   },
   "file_extension": ".py",
   "mimetype": "text/x-python",
   "name": "python",
   "nbconvert_exporter": "python",
   "pygments_lexer": "ipython3",
   "version": "3.11.13"
  }
 },
 "nbformat": 4,
 "nbformat_minor": 5
}
