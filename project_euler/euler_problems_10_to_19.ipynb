{
 "cells": [
  {
   "cell_type": "markdown",
   "id": "00052458",
   "metadata": {},
   "source": [
    "Project Euler Problems 10 to 19"
   ]
  },
  {
   "cell_type": "code",
   "execution_count": 8,
   "id": "b4da6328",
   "metadata": {},
   "outputs": [
    {
     "name": "stdout",
     "output_type": "stream",
     "text": [
      "142913828922\n"
     ]
    }
   ],
   "source": [
    "# Problem 10\n",
    "\n",
    "import math\n",
    "import numpy as np\n",
    "\n",
    "n = 2_000_000\n",
    "is_prime = np.ones(n)\n",
    "is_prime[0:2] = 0\n",
    "\n",
    "for p in range(2, int(math.isqrt(n)) + 1):\n",
    "  if is_prime[p]:\n",
    "    is_prime[p*p:n:p] = np.zeros(((n - 1 - p*p)//p) + 1)\n",
    "sum = sum(i for i, x in enumerate(is_prime) if x)\n",
    "print(sum)"
   ]
  },
  {
   "cell_type": "code",
   "execution_count": null,
   "id": "c352044d",
   "metadata": {},
   "outputs": [],
   "source": [
    "# Problem 11\n",
    "\n"
   ]
  }
 ],
 "metadata": {
  "kernelspec": {
   "display_name": "Python 3",
   "language": "python",
   "name": "python3"
  },
  "language_info": {
   "codemirror_mode": {
    "name": "ipython",
    "version": 3
   },
   "file_extension": ".py",
   "mimetype": "text/x-python",
   "name": "python",
   "nbconvert_exporter": "python",
   "pygments_lexer": "ipython3",
   "version": "3.11.9"
  }
 },
 "nbformat": 4,
 "nbformat_minor": 5
}
