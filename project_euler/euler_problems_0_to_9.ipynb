{
 "cells": [
  {
   "cell_type": "markdown",
   "id": "2284eb5e",
   "metadata": {},
   "source": [
    "This Notebook is for storing the first 10 Project Euler problem solutions"
   ]
  },
  {
   "cell_type": "code",
   "execution_count": 58,
   "id": "a8b04712",
   "metadata": {},
   "outputs": [
    {
     "name": "stdout",
     "output_type": "stream",
     "text": [
      "43486186499893500\n"
     ]
    }
   ],
   "source": [
    "# Problem 0\n",
    "\n",
    "sum_odd_squares = 0\n",
    "for i in range(639_000):\n",
    "    if i**2 % 2 == 1:\n",
    "        sum_odd_squares += i**2\n",
    "print(sum_odd_squares)"
   ]
  },
  {
   "cell_type": "code",
   "execution_count": 57,
   "id": "17b69c14",
   "metadata": {},
   "outputs": [
    {
     "name": "stdout",
     "output_type": "stream",
     "text": [
      "233168\n"
     ]
    }
   ],
   "source": [
    "# Problem 1\n",
    "\n",
    "sum_multiples = 0\n",
    "for i in range(1000):\n",
    "    if i % 3 == 0 or i % 5 == 0:\n",
    "        sum_multiples += i\n",
    "print(sum_multiples)"
   ]
  },
  {
   "cell_type": "code",
   "execution_count": 56,
   "id": "2d2ddbc8",
   "metadata": {},
   "outputs": [
    {
     "name": "stdout",
     "output_type": "stream",
     "text": [
      "4613732\n"
     ]
    }
   ],
   "source": [
    "# Problem 2\n",
    "\n",
    "a = 1\n",
    "b = 2\n",
    "even_sum = 0\n",
    "while b <= 4_000_000:\n",
    "    if b % 2 == 0:\n",
    "        even_sum += b\n",
    "    c = a+b\n",
    "    a = b\n",
    "    b = c\n",
    "print(even_sum)"
   ]
  },
  {
   "cell_type": "code",
   "execution_count": 55,
   "id": "bef59307",
   "metadata": {},
   "outputs": [
    {
     "name": "stdout",
     "output_type": "stream",
     "text": [
      "6857\n"
     ]
    }
   ],
   "source": [
    "# Problem 3\n",
    "\n",
    "n = 600851475143\n",
    "for i in range(2,int(n**0.5)):\n",
    "    while n % i == 0:\n",
    "        n /= i\n",
    "        max_prime = i\n",
    "if n > 1 & int(n) > max_prime:\n",
    "    print(n)\n",
    "else:\n",
    "    print(max_prime)"
   ]
  },
  {
   "cell_type": "code",
   "execution_count": 54,
   "id": "bb5aae6d",
   "metadata": {},
   "outputs": [
    {
     "name": "stdout",
     "output_type": "stream",
     "text": [
      "906609\n"
     ]
    }
   ],
   "source": [
    "# Problem 4\n",
    "\n",
    "max_palin = 0\n",
    "for a in range(100,1000):\n",
    "    for b in range(100,1000):\n",
    "        n = a*b\n",
    "        if (n == int(str(n)[::-1])) & (n > max_palin):\n",
    "            max_palin = n\n",
    "print(max_palin)"
   ]
  },
  {
   "cell_type": "code",
   "execution_count": 71,
   "id": "5f6c357a",
   "metadata": {},
   "outputs": [
    {
     "name": "stdout",
     "output_type": "stream",
     "text": [
      "232792560\n"
     ]
    }
   ],
   "source": [
    "# Problem 5\n",
    "\n",
    "import math\n",
    "\n",
    "n = 20\n",
    "lcm_factors = []\n",
    "for i in range(2,n+1):\n",
    "    x = i\n",
    "    prime_factors = []\n",
    "    for j in range(2, int(n**0.5)):\n",
    "        while x % j == 0:\n",
    "            x /= j\n",
    "            prime_factors.append(j)\n",
    "    if x > 1:\n",
    "        prime_factors.append(int(x))\n",
    "    lcm_test = lcm_factors.copy()\n",
    "    for p in prime_factors:\n",
    "        if p not in lcm_test:\n",
    "            lcm_factors.append(p)\n",
    "        else:\n",
    "            lcm_test.remove(p)\n",
    "smallest = math.prod(lcm_factors)\n",
    "print(smallest)"
   ]
  },
  {
   "cell_type": "code",
   "execution_count": 72,
   "id": "f7429085",
   "metadata": {},
   "outputs": [
    {
     "name": "stdout",
     "output_type": "stream",
     "text": [
      "25164150\n"
     ]
    }
   ],
   "source": [
    "# Problem 6\n",
    "\n",
    "n = 100\n",
    "sum_sqr = 0\n",
    "sum = 0\n",
    "sqr_sum = 0\n",
    "for i in range(1,n+1):\n",
    "    sum += i\n",
    "    sum_sqr += i**2\n",
    "sqr_sum = sum**2\n",
    "diff = sqr_sum - sum_sqr\n",
    "print(diff)"
   ]
  },
  {
   "cell_type": "code",
   "execution_count": 95,
   "id": "8b56c74c",
   "metadata": {},
   "outputs": [
    {
     "name": "stdout",
     "output_type": "stream",
     "text": [
      "104743\n"
     ]
    }
   ],
   "source": [
    "# Problem 7\n",
    "\n",
    "n = 10_001\n",
    "count = 0\n",
    "x = 1\n",
    "prime = True\n",
    "while count < n:\n",
    "    x += 1\n",
    "    prime = True\n",
    "    if x < 4:\n",
    "        for j in range(2,x):\n",
    "            if x % j == 0:\n",
    "                prime = False\n",
    "                break\n",
    "    else:\n",
    "        for j in range(2, int(x**0.5)+1):\n",
    "            if x % j == 0:\n",
    "                prime = False\n",
    "                break\n",
    "    if prime == True:\n",
    "        count += 1    \n",
    "print(x)"
   ]
  },
  {
   "cell_type": "code",
   "execution_count": 8,
   "id": "cd61de5d",
   "metadata": {},
   "outputs": [
    {
     "name": "stdout",
     "output_type": "stream",
     "text": [
      "23514624000\n"
     ]
    }
   ],
   "source": [
    "# Problem 8\n",
    "\n",
    "n = (\n",
    "   \"73167176531330624919225119674426574742355349194934\"\n",
    "    \"96983520312774506326239578318016984801869478851843\"\n",
    "    \"85861560789112949495459501737958331952853208805511\"\n",
    "    \"12540698747158523863050715693290963295227443043557\"\n",
    "    \"66896648950445244523161731856403098711121722383113\"\n",
    "    \"62229893423380308135336276614282806444486645238749\"\n",
    "    \"30358907296290491560440772390713810515859307960866\"\n",
    "    \"70172427121883998797908792274921901699720888093776\"\n",
    "    \"65727333001053367881220235421809751254540594752243\"\n",
    "    \"52584907711670556013604839586446706324415722155397\"\n",
    "    \"53697817977846174064955149290862569321978468622482\"\n",
    "    \"83972241375657056057490261407972968652414535100474\"\n",
    "    \"82166370484403199890008895243450658541227588666881\"\n",
    "    \"16427171479924442928230863465674813919123162824586\"\n",
    "    \"17866458359124566529476545682848912883142607690042\"\n",
    "    \"24219022671055626321111109370544217506941658960408\"\n",
    "    \"07198403850962455444362981230987879927244284909188\"\n",
    "    \"84580156166097919133875499200524063689912560717606\"\n",
    "    \"05886116467109405077541002256983155200055935729725\"\n",
    "    \"71636269561882670428252483600823257530420752963450\"\n",
    ")\n",
    "max_prod = 0\n",
    "for i in range(0,len(n)-13):\n",
    "    prod = 1\n",
    "    for j in range(0,13):\n",
    "        prod *= int(n[i+j])\n",
    "    if prod > max_prod:\n",
    "        max_prod = prod\n",
    "print(max_prod)"
   ]
  },
  {
   "cell_type": "code",
   "execution_count": 3,
   "id": "506e0e56",
   "metadata": {},
   "outputs": [
    {
     "name": "stdout",
     "output_type": "stream",
     "text": [
      "31875000\n"
     ]
    }
   ],
   "source": [
    "# Problem 9\n",
    "\n",
    "found = False\n",
    "\n",
    "for i in range(500):\n",
    "    for j in range(i,500):\n",
    "        if i+j+(i**2 + j**2)**0.5 == 1000:\n",
    "            found = True\n",
    "            print(int(i*j*((i**2 + j**2)**0.5)))\n",
    "            break\n",
    "    if found:\n",
    "        break"
   ]
  }
 ],
 "metadata": {
  "kernelspec": {
   "display_name": "Python 3",
   "language": "python",
   "name": "python3"
  },
  "language_info": {
   "codemirror_mode": {
    "name": "ipython",
    "version": 3
   },
   "file_extension": ".py",
   "mimetype": "text/x-python",
   "name": "python",
   "nbconvert_exporter": "python",
   "pygments_lexer": "ipython3",
   "version": "3.11.9"
  }
 },
 "nbformat": 4,
 "nbformat_minor": 5
}
