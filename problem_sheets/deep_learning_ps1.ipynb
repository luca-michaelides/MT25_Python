{
  "cells": [
    {
      "cell_type": "markdown",
      "metadata": {},
      "source": [
        "### **C6.5 Theories of Deep Learning**\n",
        "\n",
        "Problem Sheet 1 - *Luca Michaelides*"
      ]
    },
    {
      "cell_type": "markdown",
      "metadata": {
        "id": "G2Ea0Ks-g87k"
      },
      "source": [
        "#### 1. Training Networks\n",
        "\n",
        "In this section we will build two Neural Networks, one from scratch, and one based on the high-level functions provided by Tensorflow.\n",
        "\n",
        "We will build a net from scratch to solve the XOR problem, and to do this we will rely on the backpropagation formulae that you have derived in the problem sheet.\n",
        "\n",
        "We will also build a network with Tensorflow to introduce you to their API."
      ]
    },
    {
      "cell_type": "markdown",
      "metadata": {
        "id": "ptfXqkaZiLMM"
      },
      "source": [
        "#### 1(b) XOR problem - NN from Scratch\n",
        "\n",
        "In this problem we have four possible inputs with two possible outcomes;\n",
        "\n",
        "\n",
        "> $x_1 = 0, x_2 = 0 \\Rightarrow XOR(x_1,x_2)=0$\n",
        "\n",
        "> $x_1 = 0, x_2 = 1 \\Rightarrow XOR(x_1,x_2)=1$\n",
        "\n",
        "> $x_1 = 1, x_2 = 0 \\Rightarrow XOR(x_1,x_2)=1$\n",
        "\n",
        "> $x_1 = 1, x_2 = 1 \\Rightarrow XOR(x_1,x_2)=0$\n",
        "\n",
        "In the problem sheet you may have noticed that a two layer NN  could solve this problem exactly. Here we will see that on a 2-layer net with Sigmoid activation functions, with a random intialisation and the mean square loss, back-prop is able to converge to a pseudo-optimal solution. We will then consider a visualisation of how the neural network divides the input space as a classifier.\n",
        "\n"
      ]
    },
    {
      "cell_type": "markdown",
      "metadata": {
        "id": "Dz4eQDGFI7b0"
      },
      "source": [
        "**Exercise** The class for the NeuralNet is already defined except for the backpropagation function, which you have to complete.\n",
        "\n",
        "Note: Once you have implemented backprop, if you get poor performance, try running the cell again."
      ]
    },
    {
      "cell_type": "code",
      "execution_count": 2,
      "metadata": {
        "colab": {
          "base_uri": "https://localhost:8080/",
          "height": 228
        },
        "id": "ZBiFs8xZGNlM",
        "outputId": "b8937e10-5881-4eff-f880-b68b62c8b732"
      },
      "outputs": [
        {
          "ename": "SyntaxError",
          "evalue": "invalid syntax (1307497658.py, line 45)",
          "output_type": "error",
          "traceback": [
            "  \u001b[36mCell\u001b[39m\u001b[36m \u001b[39m\u001b[32mIn[2]\u001b[39m\u001b[32m, line 45\u001b[39m\n\u001b[31m    \u001b[39m\u001b[31md_weights2 +=\u001b[39m\n                  ^\n\u001b[31mSyntaxError\u001b[39m\u001b[31m:\u001b[39m invalid syntax\n"
          ]
        }
      ],
      "source": [
        "import numpy as np\n",
        "\n",
        "def sigmoid(x):\n",
        "    return 1.0/(1+ np.exp(-x))\n",
        "\n",
        "def sigmoid_derivative(x):\n",
        "    return x * (1.0 - x)\n",
        "\n",
        "class NeuralNetwork:\n",
        "    def __init__(self, x, y):\n",
        "        dimension = 2\n",
        "        self.input        = x\n",
        "        self.weights1     = np.random.rand(dimension, x.shape[1])      #np.array([[-1,1],[1,-1]], dtype=np.float)\n",
        "        self.weights2     = np.random.rand(1,dimension)\n",
        "        self.bias1        = np.random.rand(dimension,1)      #0.5*np.ones((dimension,1))\n",
        "        self.bias2        = np.random.rand(1,1)\n",
        "        self.y            = y\n",
        "        self.output       = np.zeros(self.y.shape)\n",
        "        self.activation   = sigmoid\n",
        "        self.d_activation = sigmoid_derivative\n",
        "\n",
        "    def feedforward(self,x):\n",
        "        self.x = np.expand_dims(x,axis =1)\n",
        "        self.layer1 = self.activation(self.weights1 @  self.x + self.bias1)\n",
        "        self.output = self.activation(self.weights2 @ self.layer1 + self.bias2)\n",
        "\n",
        "    def call(self,x):\n",
        "        x = np.expand_dims(x,axis =1)\n",
        "        layer1 = self.activation(self.weights1 @  x + self.bias1)\n",
        "        output = self.activation(self.weights2 @ layer1 + self.bias2)\n",
        "        return output\n",
        "\n",
        "    def backprop(self):\n",
        "        # application of the chain rule to find derivative of the loss function with respect to weights2 and weights1\n",
        "        d_weights1 = np.zeros(self.weights1.shape)\n",
        "        d_weights2 = np.zeros(self.weights2.shape)\n",
        "        d_bias1    = np.zeros(self.bias1.shape)\n",
        "        d_bias2    = np.zeros(self.bias2.shape)\n",
        "\n",
        "        for j in range(4):\n",
        "          # compute gradient per each input image\n",
        "          single_input = self.input[j]\n",
        "          self.feedforward(single_input)\n",
        "\n",
        "          d_weights2 += \n",
        "          d_bias2    +=\n",
        "          d_weights1 +=\n",
        "          d_bias1    +=\n",
        "\n",
        "        self.weights1 -= d_weights1\n",
        "        self.weights2 -= d_weights2\n",
        "        self.bias1    -= d_bias1\n",
        "        self.bias2    -= d_bias2\n",
        "\n",
        "X = np.array([[0,0],\n",
        "              [0,1],\n",
        "              [1,0],\n",
        "              [1,1]])\n",
        "y = np.array([[0],[1],[1],[0]])\n",
        "\n",
        "nn = NeuralNetwork(X,y)\n",
        "\n",
        "for i in range(10000):\n",
        "    nn.backprop()\n",
        "for j in range(4):\n",
        "    nn.feedforward(X[j])\n",
        "    print('Prediction:\\n', nn.x, ' --->' , nn.output)\n"
      ]
    },
    {
      "cell_type": "markdown",
      "metadata": {
        "id": "7ncvIv2vepg6"
      },
      "source": [
        "Now we will plot how the domain has been split. In the left figure we will see the outputs of the NN, while on the right we visualise the classification of these outputs i.e. any value above 0.5 identifies class 1, 0 otherwise, which shows us the decision boundary of the classifier.\n"
      ]
    },
    {
      "cell_type": "code",
      "execution_count": null,
      "metadata": {
        "id": "jI1Tv1mAeyl9"
      },
      "outputs": [],
      "source": [
        "import matplotlib.pyplot as plt\n",
        "\n",
        "mu = np.linspace(0,1,100)\n",
        "gamma = np.linspace(0,1,100)\n",
        "\n",
        "# filling the heatmap, value by value\n",
        "fun_map = np.empty((mu.size, gamma.size))\n",
        "for i in range(mu.size):\n",
        "    for j in range(gamma.size):\n",
        "        net_val = nn.call([mu[i], gamma[j]])\n",
        "        if net_val>0.5:\n",
        "          fun_map[i,j] = 1\n",
        "        else:\n",
        "          fun_map[i,j] = 0\n",
        "\n",
        "fun_map_2 = np.empty((mu.size, gamma.size))\n",
        "for i in range(mu.size):\n",
        "    for j in range(gamma.size):\n",
        "        fun_map_2[i,j] = nn.call([mu[i], gamma[j]])\n",
        "\n",
        "fig = plt.figure()\n",
        "s = fig.add_subplot(1, 2, 1, xlabel='$x$', ylabel='$y$')\n",
        "im = s.imshow(\n",
        "    fun_map_2,\n",
        "    extent=(gamma[0], gamma[-1], mu[0], mu[-1]),\n",
        "    origin='lower')\n",
        "fig.colorbar(im)\n",
        "s = fig.add_subplot(1, 2, 2, xlabel='$x$', ylabel='$y$')\n",
        "im = s.imshow(\n",
        "    fun_map,\n",
        "    extent=(gamma[0], gamma[-1], mu[0], mu[-1]),\n",
        "    origin='lower')\n",
        "fig.colorbar(im)\n"
      ]
    },
    {
      "cell_type": "markdown",
      "metadata": {
        "id": "WzDVeZloHFwy"
      },
      "source": [
        "N.B. The transition fase with the sigmoid activation function is sharp, and so the NN more-or-less splits the domain into piecwise constant regions."
      ]
    },
    {
      "cell_type": "markdown",
      "metadata": {
        "id": "lIrwTlPU7iVe"
      },
      "source": [
        "#### 1(c) Training MNIST\n",
        "\n",
        "First, we have to upload the dataset; keras, an interface for tensorflow, allows us to do this with a one line command. We then can use the Sequence model class from TF to add different layers to our network.\n",
        "\n"
      ]
    },
    {
      "cell_type": "code",
      "execution_count": null,
      "metadata": {
        "colab": {
          "base_uri": "https://localhost:8080/",
          "height": 70
        },
        "id": "MJpPyFJyDXC9",
        "outputId": "89521ee9-e38e-4913-c141-19456ce264a1"
      },
      "outputs": [
        {
          "name": "stdout",
          "output_type": "stream",
          "text": [
            "Downloading data from https://storage.googleapis.com/tensorflow/tf-keras-datasets/mnist.npz\n",
            "11493376/11490434 [==============================] - 0s 0us/step\n",
            "(60000, 28, 28)\n"
          ]
        }
      ],
      "source": [
        "from keras.datasets import mnist\n",
        "(train_images, train_labels), (test_images, test_labels)= mnist.load_data()\n",
        "\n",
        "print(train_images.shape) # Check if images are loaded correctly\n",
        "\n"
      ]
    },
    {
      "cell_type": "markdown",
      "metadata": {
        "id": "U9c213Z3MfrD"
      },
      "source": [
        "**Exercise** You now have to generate a two layer network with hidden dimension of 128 via the sequential command in Tensorflow. This should allow you to achieve 92% accuracy with only15 epochs of training!!"
      ]
    },
    {
      "cell_type": "code",
      "execution_count": null,
      "metadata": {
        "id": "qO2O_0T7MiHb"
      },
      "outputs": [],
      "source": [
        "import numpy as np\n",
        "from keras.models import Sequential\n",
        "from keras.layers import Dense, Flatten\n",
        "\n",
        "# Generate data\n",
        "x_train = train_images\n",
        "y_train = train_labels\n",
        "\n",
        "x_test = test_images\n",
        "y_test = test_labels\n",
        "\n",
        "# build the architecture with Sequential\n",
        "# ...\n",
        "\n",
        "# Compile the model, which involved shoows a loss function, an optimiser, and the performance metrics you want to track\n",
        "# ...\n",
        "\n",
        "model.summary()"
      ]
    },
    {
      "cell_type": "code",
      "execution_count": null,
      "metadata": {
        "id": "ZVt3HV5hM_bJ"
      },
      "outputs": [],
      "source": [
        "# train the architecture\n",
        "#..."
      ]
    },
    {
      "cell_type": "code",
      "execution_count": null,
      "metadata": {
        "id": "IdgtcleFNDI9"
      },
      "outputs": [],
      "source": [
        "# test the performance\n",
        "# ..."
      ]
    },
    {
      "cell_type": "markdown",
      "metadata": {
        "id": "fbdIpyUpNxec"
      },
      "source": [
        "#### 2. Expressivity\n",
        "\n",
        "The **$n$-ap problem** was shown to have an optimal solution with a particular construction of neural network. Do we find these coefficients/weights when training a network with that structure from randomly inittialised weights?\n",
        "\n",
        "#### 2(d) Train NN on n-ap problem\n",
        "\n",
        "Build the net in the case with $n=2^K, K=3$ and check if it converges."
      ]
    },
    {
      "cell_type": "code",
      "execution_count": null,
      "metadata": {
        "id": "hxwKrnWmPzrG"
      },
      "outputs": [],
      "source": [
        "import numpy as np\n",
        "from keras.models import Sequential\n",
        "from keras.layers import Dense, Dropout\n",
        "\n",
        "# Generate data\n",
        "X = np.array([[0],\n",
        "                  [.125],\n",
        "                  [.25],\n",
        "                  [.375],\n",
        "                  [.5],\n",
        "                  [.625],\n",
        "                  [.75],\n",
        "                  [.875]])\n",
        "y = np.array([[0],[1],[0],[1],[0],[1],[0],[1]])\n",
        "x_train = X\n",
        "y_train = y\n",
        "\n",
        "# Build a model\n",
        "# ...\n",
        "\n",
        "model.compile(loss='binary_crossentropy', optimizer='adam', metrics=['accuracy'])\n",
        "\n",
        "# Train the model\n",
        "# ...\n",
        "\n",
        "scores = model.evaluate(X, y)\n",
        "print(\"\\n%s: %.2f%%\" % (model.metrics_names[1], scores[1]*100))\n",
        "\n",
        "ynew = model.predict_classes(x_train)\n",
        "for i in range(len(x_train)):\n",
        "\tprint(\"Y=%s, Predicted=%s\" % (y_train[i], ynew[i]))"
      ]
    },
    {
      "cell_type": "markdown",
      "metadata": {
        "id": "_zVbcSsha9xQ"
      },
      "source": [
        "And now let's plot the modelled function\n",
        "\n",
        "\n"
      ]
    },
    {
      "cell_type": "code",
      "execution_count": null,
      "metadata": {
        "id": "T5V40mAne235"
      },
      "outputs": [],
      "source": [
        "import matplotlib.pyplot as plt\n",
        "\n",
        "def plot_model(nn,x,y):\n",
        "  xx = np.linspace(0,1,10000)\n",
        "  yy = nn.predict(xx)\n",
        "  fig = plt.figure()\n",
        "  plt.plot(xx,yy)\n",
        "  plt.plot(x,y, 'rx')\n",
        "\n",
        "plot_model(model, x_train, y_train)"
      ]
    },
    {
      "cell_type": "markdown",
      "metadata": {
        "id": "p2k7mG-BaBPn"
      },
      "source": [
        "#### 2(e) Perturbed Solution of the n-ap problem\n",
        "\n",
        "Why is this optimum so hard to find? Let's implement the optimal function directly and see how a small perturbation to the parameters changes the function it computes."
      ]
    },
    {
      "cell_type": "code",
      "execution_count": null,
      "metadata": {
        "id": "_8lV3gR-aFNd"
      },
      "outputs": [],
      "source": [
        "# Fill in the weights and bias vactors given the optimal function to be composed, given in question 1b\n",
        "\n",
        "w1 =\n",
        "w2 =\n",
        "b1 ="
      ]
    },
    {
      "cell_type": "code",
      "execution_count": null,
      "metadata": {
        "id": "-2elCP_RaHrg"
      },
      "outputs": [],
      "source": [
        "def relu(x):\n",
        "  return np.maximum(x,0)\n",
        "\n",
        "class f():\n",
        "  def __init__(self, num_blocks, noise_stddev=0):\n",
        "    self.weights  = []\n",
        "    self.biases = []\n",
        "    for i in range(num_blocks):\n",
        "      w1_n = w1+ np.random.normal(scale = noise_stddev, size = w1.shape)\n",
        "      w2_n = w2+ np.random.normal(scale = noise_stddev, size = w2.shape)\n",
        "      b1_n = b1+ np.random.normal(scale = noise_stddev, size = b1.shape)\n",
        "      self.weights.append([w1_n,w2_n])\n",
        "      self.biases.append(b1_n)\n",
        "\n",
        "  def forward(self,x):\n",
        "    output = x\n",
        "    for i in range(len(self.weights)):\n",
        "      output = relu(self.weights[i][1] @ (relu(self.weights[i][0] @ output + self.biases[i])))\n",
        "    return output"
      ]
    },
    {
      "cell_type": "code",
      "execution_count": null,
      "metadata": {
        "id": "NBfBGCy5aRI3"
      },
      "outputs": [],
      "source": [
        "x = np.expand_dims(np.linspace(0,1,10000), 0)"
      ]
    },
    {
      "cell_type": "code",
      "execution_count": null,
      "metadata": {
        "id": "PARdoS6CaT3C"
      },
      "outputs": [],
      "source": [
        "no_noise = f(6,0)\n",
        "noise = f(6,0.1)\n",
        "\n",
        "plt.figure()\n",
        "plt.plot(x[0,:], no_noise.forward(x).T, label = \"Without noise\")\n",
        "\n",
        "plt.plot(x[0,:], noise.forward(x).T, label = \"With noise\")\n",
        "plt.legend()"
      ]
    },
    {
      "cell_type": "markdown",
      "metadata": {
        "id": "GRVwoXF8avNB"
      },
      "source": [
        "#### 2(f) Interatction Between Detph and Width\n",
        "\n",
        "Learning a piecewise smooth function from sample values\n"
      ]
    },
    {
      "cell_type": "code",
      "execution_count": null,
      "metadata": {
        "colab": {
          "base_uri": "https://localhost:8080/"
        },
        "id": "RbyNydJZazTE",
        "outputId": "397ab38e-f65c-46ed-efa4-a29f0cb95358"
      },
      "outputs": [
        {
          "name": "stdout",
          "output_type": "stream",
          "text": [
            "Epoch 1/20\n",
            "313/313 [==============================] - 1s 2ms/step - loss: 0.0822 - mse: 0.0822\n",
            "Epoch 2/20\n",
            "313/313 [==============================] - 1s 2ms/step - loss: 0.0384 - mse: 0.0384\n",
            "Epoch 3/20\n",
            "313/313 [==============================] - 1s 2ms/step - loss: 0.0063 - mse: 0.0063\n",
            "Epoch 4/20\n",
            "313/313 [==============================] - 1s 2ms/step - loss: 0.0040 - mse: 0.0040\n",
            "Epoch 5/20\n",
            "313/313 [==============================] - 1s 2ms/step - loss: 0.0036 - mse: 0.0036\n",
            "Epoch 6/20\n",
            "313/313 [==============================] - 1s 2ms/step - loss: 0.0033 - mse: 0.0033\n",
            "Epoch 7/20\n",
            "313/313 [==============================] - 1s 2ms/step - loss: 0.0026 - mse: 0.0026\n",
            "Epoch 8/20\n",
            "313/313 [==============================] - 1s 2ms/step - loss: 0.0033 - mse: 0.0033\n",
            "Epoch 9/20\n",
            "313/313 [==============================] - 1s 2ms/step - loss: 0.0024 - mse: 0.0024\n",
            "Epoch 10/20\n",
            "313/313 [==============================] - 1s 2ms/step - loss: 0.0026 - mse: 0.0026\n",
            "Epoch 11/20\n",
            "313/313 [==============================] - 1s 2ms/step - loss: 0.0029 - mse: 0.0029\n",
            "Epoch 12/20\n",
            "313/313 [==============================] - 1s 2ms/step - loss: 0.0021 - mse: 0.0021\n",
            "Epoch 13/20\n",
            "313/313 [==============================] - 1s 2ms/step - loss: 0.0022 - mse: 0.0022\n",
            "Epoch 14/20\n",
            "313/313 [==============================] - 1s 2ms/step - loss: 0.0021 - mse: 0.0021\n",
            "Epoch 15/20\n",
            "313/313 [==============================] - 1s 2ms/step - loss: 0.0026 - mse: 0.0026\n",
            "Epoch 16/20\n",
            "313/313 [==============================] - 1s 2ms/step - loss: 0.0022 - mse: 0.0022\n",
            "Epoch 17/20\n",
            "313/313 [==============================] - 1s 2ms/step - loss: 0.0022 - mse: 0.0022\n",
            "Epoch 18/20\n",
            "313/313 [==============================] - 1s 2ms/step - loss: 0.0017 - mse: 0.0017\n",
            "Epoch 19/20\n",
            "313/313 [==============================] - 1s 2ms/step - loss: 0.0028 - mse: 0.0028\n",
            "Epoch 20/20\n",
            "313/313 [==============================] - 1s 2ms/step - loss: 0.0025 - mse: 0.0025\n"
          ]
        },
        {
          "data": {
            "text/plain": [
              "<keras.callbacks.History at 0x7fbb5aacd890>"
            ]
          },
          "execution_count": 3,
          "metadata": {},
          "output_type": "execute_result"
        }
      ],
      "source": [
        "import numpy as np\n",
        "import matplotlib.pyplot as plt\n",
        "from keras.models import Sequential\n",
        "from keras.layers import Dense\n",
        "import tensorflow as tf\n",
        "\n",
        "train_samples=10000\n",
        "\n",
        "x_train=np.expand_dims(np.sort(np.random.uniform(0,1,train_samples)), 1)\n",
        "\n",
        "#generate samples of y=sin(x * pi) for x\\in[0,1) and y=x^2 for x\\in[1/2,1]\n",
        "def test_func(x):\n",
        "    return np.sin(x*np.pi)*(x<1/2) + x**2*(x>=1/2)\n",
        "\n",
        "y_train=test_func(x_train)\n",
        "\n",
        "#uncommenting the below shows the samples\n",
        "#plt.figure()\n",
        "#plt.plot(x_train,y_train)\n",
        "\n",
        "#we now train a network base on the samples (x_train,y_train) and evaluate it on x_test.\n",
        "\n",
        "#consider varying the network width and depth,\n",
        "#width and depth are controlled through the variables \"width\" and \"depths respectively\",\n",
        "\n",
        "width=10\n",
        "depth=10\n",
        "\n",
        "model = Sequential()\n",
        "model.add(Dense(width, input_dim=1, activation='relu'))\n",
        "\n",
        "for i in range(depth-2):\n",
        "  model.add(Dense(width, activation='relu'))\n",
        "\n",
        "model.add(Dense(1))\n",
        "\n",
        "model.compile(loss=tf.keras.losses.MeanSquaredError(), optimizer = 'adam',  metrics=['mse'])\n",
        "\n",
        "model.fit(x_train, y_train, epochs=20, batch_size=32,verbose=1)\n",
        "\n",
        "# scores = model.evaluate(X, y)\n",
        "# print(\"\\n%s: %.2f%%\" % (model.metrics_names[1], scores[1]*100))"
      ]
    },
    {
      "cell_type": "code",
      "execution_count": null,
      "metadata": {
        "colab": {
          "base_uri": "https://localhost:8080/",
          "height": 283
        },
        "id": "1-__gjJPa882",
        "outputId": "2a00bcdc-92c0-4097-9471-59406c065ebb"
      },
      "outputs": [
        {
          "data": {
            "text/plain": [
              "<matplotlib.legend.Legend at 0x7fbb5921b990>"
            ]
          },
          "execution_count": 4,
          "metadata": {},
          "output_type": "execute_result"
        },
        {
          "data": {
            "image/png": "[encoded data removed]",
            "text/plain": [
              "<Figure size 432x288 with 1 Axes>"
            ]
          },
          "metadata": {
            "needs_background": "light"
          },
          "output_type": "display_data"
        }
      ],
      "source": [
        "x_test=np.linspace(0,1,10000)\n",
        "y_test = test_func(x_test)\n",
        "\n",
        "x_test = np.expand_dims(x_test,  axis=1)\n",
        "y_test_estimate = model(x_test)\n",
        "\n",
        "plt.figure()\n",
        "plt.plot(x_test,y_test_estimate, label = \"fitted\")\n",
        "plt.plot(x_test, y_test, label = \"ground truth\")\n",
        "plt.legend()"
      ]
    },
    {
      "cell_type": "markdown",
      "metadata": {
        "id": "oPP_7EuecVk-"
      },
      "source": [
        "Try and do something similar to the code above - but for a 2-d function\n"
      ]
    }
  ],
  "metadata": {
    "colab": {
      "provenance": []
    },
    "kernelspec": {
      "display_name": "myenv",
      "language": "python",
      "name": "python3"
    },
    "language_info": {
      "codemirror_mode": {
        "name": "ipython",
        "version": 3
      },
      "file_extension": ".py",
      "mimetype": "text/x-python",
      "name": "python",
      "nbconvert_exporter": "python",
      "pygments_lexer": "ipython3",
      "version": "3.11.13"
    }
  },
  "nbformat": 4,
  "nbformat_minor": 0
}
